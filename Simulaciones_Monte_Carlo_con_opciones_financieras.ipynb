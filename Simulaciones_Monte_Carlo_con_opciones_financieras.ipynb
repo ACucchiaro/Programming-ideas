{
  "nbformat": 4,
  "nbformat_minor": 0,
  "metadata": {
    "colab": {
      "name": "Simulaciones Monte Carlo con opciones financieras",
      "provenance": [],
      "collapsed_sections": []
    },
    "kernelspec": {
      "name": "python3",
      "display_name": "Python 3"
    }
  },
  "cells": [
    {
      "cell_type": "code",
      "metadata": {
        "id": "7bxiyguWdkyr"
      },
      "source": [
        "import numpy as np\r\n",
        "import math\r\n",
        "import time\r\n",
        "import scipy.stats as se"
      ],
      "execution_count": null,
      "outputs": []
    },
    {
      "cell_type": "code",
      "metadata": {
        "id": "xqplW3JjT335"
      },
      "source": [
        "S = 100\r\n",
        "T = 1\r\n",
        "r = 0.07\r\n",
        "sigma = 0.2\r\n",
        "Nsim = 50000\r\n",
        "Nsteps = 250\r\n",
        "K = 100\r\n",
        "\r\n",
        "dt = T/Nsteps\r\n",
        "\r\n",
        "drift = (r - (sigma**2)/2)*dt\r\n",
        "a = sigma*np.sqrt(dt)\r\n",
        "x = np.random.normal(0,1,(Nsim,Nsteps))\r\n",
        "\r\n",
        "Smat = np.zeros((Nsim,Nsteps))\r\n",
        "Smat[:,0]+=S\r\n",
        "for i in range(1,Nsteps):\r\n",
        "  Smat[:,i]+=Smat[:,i-1]*np.exp(drift+a*x[:,i])\r\n",
        "\r\n",
        "q = Smat[:,-1]-K\r\n",
        "for i in range(len(q)):\r\n",
        "  if q[i]<0:\r\n",
        "    q[i]=0\r\n",
        "  else:\r\n",
        "    q[i]=q[i]\r\n",
        "\r\n",
        "p = K - Smat[:,-1]\r\n",
        "for i in range(len(p)):\r\n",
        "  if p[i]<0:\r\n",
        "    p[i]=0\r\n",
        "  else:\r\n",
        "    p[i]=p[i]\r\n",
        "\r\n",
        "payoff_call = np.mean(q)\r\n",
        "payoff_put = np.mean(p)\r\n",
        "\r\n",
        "payoff_call\r\n",
        "payoff_put\r\n",
        "\r\n",
        "call = payoff_call * np.exp(-r*T)\r\n",
        "put = payoff_put * np.exp(-r*T)\r\n",
        "\r\n",
        "print(call)\r\n",
        "print(put)"
      ],
      "execution_count": null,
      "outputs": []
    },
    {
      "cell_type": "code",
      "metadata": {
        "id": "0sohVRtcSh34"
      },
      "source": [
        "class OptionPricing:\r\n",
        "\r\n",
        "  def __init__(self,S0,E,T,rf,sigma,iterations):\r\n",
        "    self.S0 = S0\r\n",
        "    self.E = E\r\n",
        "    self.T = T\r\n",
        "    self.rf = rf\r\n",
        "    self.sigma = sigma\r\n",
        "    self.iterations = iterations\r\n",
        "  \r\n",
        "  def call_option_simulation(self):\r\n",
        "\r\n",
        "    option_data = np.zeros([self.iterations, 2])\r\n",
        "    rand = np.random.normal(0, 1, [1,self.iterations])\r\n",
        "    stock_price = self.S0 * np.exp(self.T * (self.rf - 0.5 * self.sigma**2)+self.sigma*np.sqrt(self.T)*rand)\r\n",
        "    option_data[:,1] = stock_price - self.E\r\n",
        "    average = np.sum(np.amax(option_data, axis=1)) / float(self.iterations)\r\n",
        "    return np.exp(-1.0 * self.rf*self.T)*average\r\n",
        "\r\n",
        "  def put_option_simulation(self):\r\n",
        "    \r\n",
        "    option_data = np.zeros([self.iterations, 2])\r\n",
        "    rand = np.random.normal(0, 1, [1,self.iterations])\r\n",
        "    stock_price = self.S0 * np.exp(self.T * (self.rf - 0.5 * self.sigma**2)+self.sigma*np.sqrt(self.T)*rand)\r\n",
        "    option_data[:,1] = self.E - stock_price\r\n",
        "    average = np.sum(np.amax(option_data, axis=1)) / float(self.iterations)\r\n",
        "    return np.exp(-1.0 * self.rf*self.T)*average\r\n",
        "\r\n",
        "if __name__ == \"__main__\":\r\n",
        "\r\n",
        "  S0 = 100\r\n",
        "  E = 100\r\n",
        "  T = 1\r\n",
        "  rf = 0.05\r\n",
        "  sigma = 0.2\r\n",
        "  iterations = 100000\r\n",
        "\r\n",
        "  model = OptionPricing(S0, E, T, rf, sigma, iterations)\r\n",
        "  print(\"Call option price with MonteCarlo approach: \", model.call_option_simulation())\r\n",
        "  print(\"Put option price with MonteCarlo approach: \", model.put_option_simulation())\r\n"
      ],
      "execution_count": null,
      "outputs": []
    },
    {
      "cell_type": "code",
      "metadata": {
        "id": "gNHbqm9IejFR"
      },
      "source": [
        "def coe(rfr, b, mrp):\r\n",
        "  return rfr + b * mrp\r\n",
        "\r\n",
        "def wacc(cd, tax, debt, capital, rfr, b, mrp, equity):\r\n",
        "  return cd * (debt/capital) * (1 - tax) + coe(rfr, b, mrp) * (equity/capital)\r\n",
        "\r\n",
        "def d1(s, k, r, vol, t):\r\n",
        "  return (np.log(s/k) + (r+(vol**2)/2)*t) / (vol * np.sqrt(t))\r\n",
        "\r\n",
        "def d2(s, k, r, vol, t):\r\n",
        "  return d1(s, k, r, vol, t) - vol*np.sqrt(t)\r\n",
        "\r\n",
        "def callval(s, k, r, vol, t):\r\n",
        "  return s * se.norm.cdf(d1(s, k, r, vol, t)) - k * se.norm.cdf(d2(s, k, r, vol, t))*np.exp(-r * t)\r\n",
        "\r\n",
        "def putval(s, k, r, vol, t):\r\n",
        "  return k * se.norm.cdf(-d2(s, k, r, vol, t)) * np.exp(-r * t) - s* se.norm.cdf(-d1(s, k, r, vol, t))\r\n",
        "\r\n",
        "print(callval(100, 100, 0.07, 0.2, 1))\r\n",
        "print(putval(100, 100, 0.07, 0.2, 1))"
      ],
      "execution_count": null,
      "outputs": []
    }
  ]
}