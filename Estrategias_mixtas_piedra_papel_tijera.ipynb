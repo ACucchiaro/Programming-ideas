{
  "nbformat": 4,
  "nbformat_minor": 0,
  "metadata": {
    "colab": {
      "name": "Estrategias mixtas: piedra - papel- tijera.ipynb",
      "provenance": [],
      "collapsed_sections": []
    },
    "kernelspec": {
      "name": "python3",
      "display_name": "Python 3"
    }
  },
  "cells": [
    {
      "cell_type": "code",
      "metadata": {
        "id": "ItEYfFyojtvh",
        "colab": {
          "base_uri": "https://localhost:8080/",
          "height": 355
        },
        "outputId": "5d3c717a-52e8-4117-d9ba-28442e6df5e0"
      },
      "source": [
        "import numpy as np\r\n",
        "import matplotlib.pyplot as plt\r\n",
        "%matplotlib inline\r\n",
        "\r\n",
        "estrategias = np.random.randint(1, high=4, size=100000, dtype='l')\r\n",
        "lista_estrategias = []\r\n",
        "piedra_1 = 0\r\n",
        "papel_2 = 0\r\n",
        "tijera_3 = 0\r\n",
        "total = 100000\r\n",
        "proporciones_piedra = []\r\n",
        "proporciones_papel = []\r\n",
        "proporciones_tijera = []\r\n",
        "\r\n",
        "for i in estrategias:\r\n",
        "  lista_estrategias.append(i)\r\n",
        "\r\n",
        "for i in lista_estrategias:\r\n",
        "  if i == 1:\r\n",
        "    piedra_1 += 1\r\n",
        "    proporciones_piedra.append(piedra_1/total)\r\n",
        "  elif i == 2:\r\n",
        "    papel_2 += 1\r\n",
        "    proporciones_papel.append(papel_2/total)\r\n",
        "  elif i == 3:\r\n",
        "    tijera_3 += 1\r\n",
        "    proporciones_tijera.append(tijera_3/total)\r\n",
        "  else:\r\n",
        "    pass\r\n",
        "\r\n",
        "proporciones_piedra[len(proporciones_piedra)-1] + proporciones_papel[len(proporciones_papel) - 1] + proporciones_tijera[len(proporciones_tijera) - 1]\r\n",
        "\r\n",
        "print(\"El Equilibrio de Nash en Estrategias mixtas para el juego Piedra-Papel-Tijera viene dado por: \")\r\n",
        "print(proporciones_piedra[len(proporciones_piedra)-1],\"para la estrategia piedra.\")\r\n",
        "print(proporciones_papel[len(proporciones_papel) - 1],\"para la estrategia papel.\")\r\n",
        "print(proporciones_tijera[len(proporciones_tijera) - 1],\"para la estrategia tijera.\")\r\n",
        "plt.plot(proporciones_piedra)\r\n"
      ],
      "execution_count": 12,
      "outputs": [
        {
          "output_type": "stream",
          "text": [
            "El Equilibrio de Nash en Estrategias mixtas para el juego Piedra-Papel-Tijera viene dado por: \n",
            "0.33241 para la estrategia piedra.\n",
            "0.33603 para la estrategia papel.\n",
            "0.33156 para la estrategia tijera.\n"
          ],
          "name": "stdout"
        },
        {
          "output_type": "execute_result",
          "data": {
            "text/plain": [
              "[<matplotlib.lines.Line2D at 0x7f8913ac1198>]"
            ]
          },
          "metadata": {
            "tags": []
          },
          "execution_count": 12
        },
        {
          "output_type": "display_data",
          "data": {
            "image/png": "[encoded data removed]",
            "text/plain": [
              "<Figure size 432x288 with 1 Axes>"
            ]
          },
          "metadata": {
            "tags": [],
            "needs_background": "light"
          }
        }
      ]
    }
  ]
}