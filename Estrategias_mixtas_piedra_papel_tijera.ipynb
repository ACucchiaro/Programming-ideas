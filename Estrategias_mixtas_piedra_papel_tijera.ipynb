{
  "nbformat": 4,
  "nbformat_minor": 0,
  "metadata": {
    "colab": {
      "name": "Estrategias mixtas: piedra - papel- tijera.ipynb",
      "provenance": [],
      "collapsed_sections": []
    },
    "kernelspec": {
      "name": "python3",
      "display_name": "Python 3"
    }
  },
  "cells": [
    {
      "cell_type": "code",
      "metadata": {
        "id": "ItEYfFyojtvh"
      },
      "source": [
        "import numpy as np\r\n",
        "import matplotlib.pyplot as plt\r\n",
        "%matplotlib inline\r\n",
        "\r\n",
        "estrategias = np.random.randint(1, high=4, size=100, dtype='l')\r\n",
        "lista_estrategias = []\r\n",
        "piedra_1 = 0\r\n",
        "papel_2 = 0\r\n",
        "tijera_3 = 0\r\n",
        "total = 100\r\n",
        "proporciones_piedra = []\r\n",
        "proporciones_papel = []\r\n",
        "proporciones_tijera = []\r\n",
        "\r\n",
        "for i in estrategias:\r\n",
        "  lista_estrategias.append(i)\r\n",
        "\r\n",
        "for i in lista_estrategias:\r\n",
        "  if i == 1:\r\n",
        "    piedra_1 += 1\r\n",
        "    proporciones_piedra.append(piedra_1/total)\r\n",
        "  elif i == 2:\r\n",
        "    papel_2 += 1\r\n",
        "    proporciones_papel.append(papel_2/total)\r\n",
        "  elif i == 3:\r\n",
        "    tijera_3 += 1\r\n",
        "    proporciones_tijera.append(tijera_3/total)\r\n",
        "  else:\r\n",
        "    pass\r\n",
        "\r\n",
        "proporciones_piedra[len(proporciones_piedra)-1] + proporciones_papel[len(proporciones_papel) - 1] + proporciones_tijera[len(proporciones_tijera) - 1]\r\n"
      ],
      "execution_count": null,
      "outputs": []
    }
  ]
}