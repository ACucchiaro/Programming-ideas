{
  "nbformat": 4,
  "nbformat_minor": 0,
  "metadata": {
    "colab": {
      "name": "Frontera eficiente.ipynb",
      "provenance": [],
      "collapsed_sections": []
    },
    "kernelspec": {
      "name": "python3",
      "display_name": "Python 3"
    },
    "language_info": {
      "name": "python"
    }
  },
  "cells": [
    {
      "cell_type": "markdown",
      "metadata": {
        "id": "7gAEcenVe6t3"
      },
      "source": [
        "Pasos:\n",
        "1. Importar información de precios.\n",
        "2. Calcular rendimientos diarios:\n",
        "Rendimiento diario promedio.\n",
        "Varianza y volatilidad de los activos.\n",
        "3. Calcular matriz de varianzas y covarianzas.\n",
        "4. Crear portafolio eficiente A\n",
        "5. Crear portafolio eficiente B\n",
        "6. Crear portafolio eficiente C combinando portafolios A y B: modificando las proporciones elaborar la curva.\n",
        "7. Obtener el portafolio de mínima varianza.\n",
        "8. Encontrar el portafolio con la máxima RS.\n",
        "9. Trazar la CML."
      ]
    },
    {
      "cell_type": "code",
      "metadata": {
        "id": "ejTZu68MeqZ1"
      },
      "source": [
        "import pandas_datareader.data as web\n",
        "import datetime as dt\n",
        "import pandas as pd\n",
        "import numpy as np\n",
        "import matplotlib.pyplot as plt\n"
      ],
      "execution_count": 1,
      "outputs": []
    },
    {
      "cell_type": "code",
      "metadata": {
        "id": "RkMYvuLVg_j0",
        "colab": {
          "base_uri": "https://localhost:8080/",
          "height": 235
        },
        "outputId": "98336c47-d71b-4fa8-9f81-4a73035fd0ea"
      },
      "source": [
        "start = dt.datetime(2010,1,1)\n",
        "end = dt.datetime.now()\n",
        "\n",
        "tickers = [\"AAPL\",\"MSFT\",\"GOOG\",\"F\",\"MS\"]\n",
        "\n",
        "df = pd.DataFrame()\n",
        "for ticker in tickers:\n",
        "  df2 = web.DataReader(ticker, \"yahoo\", start, end)\n",
        "  df[ticker]=df2[\"Adj Close\"]\n",
        "\n",
        "df.tail()"
      ],
      "execution_count": 2,
      "outputs": [
        {
          "output_type": "execute_result",
          "data": {
            "text/html": [
              "<div>\n",
              "<style scoped>\n",
              "    .dataframe tbody tr th:only-of-type {\n",
              "        vertical-align: middle;\n",
              "    }\n",
              "\n",
              "    .dataframe tbody tr th {\n",
              "        vertical-align: top;\n",
              "    }\n",
              "\n",
              "    .dataframe thead th {\n",
              "        text-align: right;\n",
              "    }\n",
              "</style>\n",
              "<table border=\"1\" class=\"dataframe\">\n",
              "  <thead>\n",
              "    <tr style=\"text-align: right;\">\n",
              "      <th></th>\n",
              "      <th>AAPL</th>\n",
              "      <th>MSFT</th>\n",
              "      <th>GOOG</th>\n",
              "      <th>F</th>\n",
              "      <th>MS</th>\n",
              "    </tr>\n",
              "    <tr>\n",
              "      <th>Date</th>\n",
              "      <th></th>\n",
              "      <th></th>\n",
              "      <th></th>\n",
              "      <th></th>\n",
              "      <th></th>\n",
              "    </tr>\n",
              "  </thead>\n",
              "  <tbody>\n",
              "    <tr>\n",
              "      <th>2021-04-14</th>\n",
              "      <td>132.029999</td>\n",
              "      <td>255.589996</td>\n",
              "      <td>2254.840088</td>\n",
              "      <td>12.24</td>\n",
              "      <td>80.790001</td>\n",
              "    </tr>\n",
              "    <tr>\n",
              "      <th>2021-04-15</th>\n",
              "      <td>134.500000</td>\n",
              "      <td>259.500000</td>\n",
              "      <td>2296.659912</td>\n",
              "      <td>12.24</td>\n",
              "      <td>80.820000</td>\n",
              "    </tr>\n",
              "    <tr>\n",
              "      <th>2021-04-16</th>\n",
              "      <td>134.160004</td>\n",
              "      <td>260.739990</td>\n",
              "      <td>2297.760010</td>\n",
              "      <td>12.23</td>\n",
              "      <td>78.589996</td>\n",
              "    </tr>\n",
              "    <tr>\n",
              "      <th>2021-04-19</th>\n",
              "      <td>134.839996</td>\n",
              "      <td>258.739990</td>\n",
              "      <td>2302.399902</td>\n",
              "      <td>12.11</td>\n",
              "      <td>80.029999</td>\n",
              "    </tr>\n",
              "    <tr>\n",
              "      <th>2021-04-20</th>\n",
              "      <td>133.110001</td>\n",
              "      <td>258.260010</td>\n",
              "      <td>2293.629883</td>\n",
              "      <td>11.45</td>\n",
              "      <td>77.290001</td>\n",
              "    </tr>\n",
              "  </tbody>\n",
              "</table>\n",
              "</div>"
            ],
            "text/plain": [
              "                  AAPL        MSFT         GOOG      F         MS\n",
              "Date                                                             \n",
              "2021-04-14  132.029999  255.589996  2254.840088  12.24  80.790001\n",
              "2021-04-15  134.500000  259.500000  2296.659912  12.24  80.820000\n",
              "2021-04-16  134.160004  260.739990  2297.760010  12.23  78.589996\n",
              "2021-04-19  134.839996  258.739990  2302.399902  12.11  80.029999\n",
              "2021-04-20  133.110001  258.260010  2293.629883  11.45  77.290001"
            ]
          },
          "metadata": {
            "tags": []
          },
          "execution_count": 2
        }
      ]
    },
    {
      "cell_type": "code",
      "metadata": {
        "id": "_YauHHwphrrS"
      },
      "source": [
        "R = np.log(df/df.shift(1))\n",
        "R.dropna(inplace=True)\n",
        "R.describe()\n",
        "Er = np.array(R.describe().loc[\"mean\"])\n",
        "std = np.array(R.describe().loc[\"std\"])\n",
        "var = std**2\n",
        "varcovar = R.cov()"
      ],
      "execution_count": 3,
      "outputs": []
    },
    {
      "cell_type": "code",
      "metadata": {
        "id": "190SUjxwjADe"
      },
      "source": [
        "#Portafolio eficiente A\n",
        "\n",
        "c1 = 0 \n",
        "weight_A = np.linalg.inv(varcovar) @ (Er - c1) / np.sum(np.linalg.inv(varcovar) @ (Er - c1))\n",
        "Er_A = weight_A @ Er\n",
        "var_A = weight_A @ varcovar @ weight_A.T\n",
        "std_A = np.sqrt(var_A)"
      ],
      "execution_count": 4,
      "outputs": []
    },
    {
      "cell_type": "code",
      "metadata": {
        "id": "80zdK33NkY9_"
      },
      "source": [
        "#Portafolio eficiente B\n",
        "\n",
        "c2 = 0.04 \n",
        "weight_B = np.linalg.inv(varcovar) @ (Er - c2) / np.sum(np.linalg.inv(varcovar) @ (Er - c2))\n",
        "Er_B = weight_B @ Er\n",
        "var_B = weight_B @ varcovar @ weight_B.T\n",
        "std_B = np.sqrt(var_B)"
      ],
      "execution_count": 5,
      "outputs": []
    },
    {
      "cell_type": "code",
      "metadata": {
        "id": "ezb8gmvFkzSv"
      },
      "source": [
        "covAB = weight_A @ varcovar @ weight_B.T"
      ],
      "execution_count": 6,
      "outputs": []
    },
    {
      "cell_type": "code",
      "metadata": {
        "id": "DOD-JhGulmo-"
      },
      "source": [
        "w_A = np.linspace(-1.5,4.5,num=100)\n",
        "\n",
        "w_B = 1 - w_A\n",
        "\n",
        "Er_C = w_A * Er_A + w_B * Er_B\n",
        "std_C = np.sqrt((w_A * std_A)**2 + (w_B * std_B)**2 + 2*w_A*w_B*covAB)"
      ],
      "execution_count": 7,
      "outputs": []
    },
    {
      "cell_type": "code",
      "metadata": {
        "id": "eLqkq5rZmyxQ"
      },
      "source": [
        "#Portafolio de mínima var\n",
        "\n",
        "C = np.ones((varcovar.shape[0]))\n",
        "\n",
        "PMV = C @ np.linalg.inv(varcovar) / (C @ np.linalg.inv(varcovar) @ C.T)\n",
        "\n",
        "Er_PMV = PMV @ Er\n",
        "std_PMV = np.sqrt(PMV @ varcovar @ PMV.T)"
      ],
      "execution_count": 8,
      "outputs": []
    },
    {
      "cell_type": "code",
      "metadata": {
        "colab": {
          "base_uri": "https://localhost:8080/",
          "height": 266
        },
        "id": "cMN4TeF-mekz",
        "outputId": "a9fb6763-54d6-45d4-903b-74e6140e4c73"
      },
      "source": [
        "plt.plot(std_C, Er_C)\n",
        "plt.scatter(std_PMV, Er_PMV)\n",
        "plt.show()"
      ],
      "execution_count": 9,
      "outputs": [
        {
          "output_type": "display_data",
          "data": {
            "image/png": "[encoded data removed]",
            "text/plain": [
              "<Figure size 432x288 with 1 Axes>"
            ]
          },
          "metadata": {
            "tags": [],
            "needs_background": "light"
          }
        }
      ]
    }
  ]
}