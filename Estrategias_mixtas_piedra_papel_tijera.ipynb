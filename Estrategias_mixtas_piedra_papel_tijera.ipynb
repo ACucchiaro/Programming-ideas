{
  "nbformat": 4,
  "nbformat_minor": 0,
  "metadata": {
    "colab": {
      "name": "Estrategias mixtas: piedra - papel- tijera.ipynb",
      "provenance": [],
      "collapsed_sections": []
    },
    "kernelspec": {
      "name": "python3",
      "display_name": "Python 3"
    }
  },
  "cells": [
    {
      "cell_type": "code",
      "metadata": {
        "id": "ItEYfFyojtvh",
        "colab": {
          "base_uri": "https://localhost:8080/",
          "height": 350
        },
        "outputId": "d7ae5311-7c98-4178-805f-d5549c6a0cf4"
      },
      "source": [
        "import numpy as np\n",
        "import matplotlib.pyplot as plt\n",
        "%matplotlib inline\n",
        "\n",
        "iter=1000000\n",
        "estrategias = np.random.randint(1, high=4, size=iter, dtype='l')\n",
        "lista_estrategias = []\n",
        "piedra_1 = 0\n",
        "papel_2 = 0\n",
        "tijera_3 = 0\n",
        "total = iter\n",
        "proporciones_piedra = []\n",
        "proporciones_papel = []\n",
        "proporciones_tijera = []\n",
        "\n",
        "for i in estrategias:\n",
        "  lista_estrategias.append(i)\n",
        "\n",
        "for i in lista_estrategias:\n",
        "  if i == 1:\n",
        "    piedra_1 += 1\n",
        "    proporciones_piedra.append(piedra_1/total)\n",
        "  elif i == 2:\n",
        "    papel_2 += 1\n",
        "    proporciones_papel.append(papel_2/total)\n",
        "  elif i == 3:\n",
        "    tijera_3 += 1\n",
        "    proporciones_tijera.append(tijera_3/total)\n",
        "  else:\n",
        "    pass\n",
        "\n",
        "proporciones_piedra[len(proporciones_piedra)-1] + proporciones_papel[len(proporciones_papel) - 1] + proporciones_tijera[len(proporciones_tijera) - 1]\n",
        "\n",
        "print(\"El Equilibrio de Nash en Estrategias mixtas para el juego Piedra-Papel-Tijera viene dado por: \")\n",
        "print(proporciones_piedra[len(proporciones_piedra)-1],\"para la estrategia piedra.\")\n",
        "print(proporciones_papel[len(proporciones_papel) - 1],\"para la estrategia papel.\")\n",
        "print(proporciones_tijera[len(proporciones_tijera) - 1],\"para la estrategia tijera.\")\n",
        "plt.plot(proporciones_piedra)\n"
      ],
      "execution_count": 1,
      "outputs": [
        {
          "output_type": "stream",
          "text": [
            "El Equilibrio de Nash en Estrategias mixtas para el juego Piedra-Papel-Tijera viene dado por: \n",
            "0.333185 para la estrategia piedra.\n",
            "0.333151 para la estrategia papel.\n",
            "0.333664 para la estrategia tijera.\n"
          ],
          "name": "stdout"
        },
        {
          "output_type": "execute_result",
          "data": {
            "text/plain": [
              "[<matplotlib.lines.Line2D at 0x7fbc228855d0>]"
            ]
          },
          "metadata": {
            "tags": []
          },
          "execution_count": 1
        },
        {
          "output_type": "display_data",
          "data": {
            "image/png": "[encoded data removed]",
            "text/plain": [
              "<Figure size 432x288 with 1 Axes>"
            ]
          },
          "metadata": {
            "tags": [],
            "needs_background": "light"
          }
        }
      ]
    }
  ]
}